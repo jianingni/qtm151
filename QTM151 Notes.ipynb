{
 "cells": [
  {
   "cell_type": "code",
   "execution_count": 15,
   "metadata": {},
   "outputs": [
    {
     "name": "stdout",
     "output_type": "stream",
     "text": [
      "Zodiac\n",
      "5\n"
     ]
    },
    {
     "data": {
      "text/plain": [
       "1.4"
      ]
     },
     "execution_count": 15,
     "metadata": {},
     "output_type": "execute_result"
    }
   ],
   "source": [
    "# 9/9 LECTURE\n",
    "\n",
    "import numpy as np\n",
    "\n",
    "\n",
    "# Variable Types \n",
    "type(3)\n",
    "type(3.5)\n",
    "\n",
    "movie = \"Zodiac\"\n",
    "print(movie)\n",
    "\n",
    "# Operations \n",
    "print(3+2)\n",
    "(3 + 4) / 5\n"
   ]
  },
  {
   "cell_type": "code",
   "execution_count": 17,
   "metadata": {},
   "outputs": [
    {
     "data": {
      "text/plain": [
       "'My name is Nora, and my major is Economics'"
      ]
     },
     "execution_count": 17,
     "metadata": {},
     "output_type": "execute_result"
    }
   ],
   "source": [
    "# String \n",
    "name = str(\"Nora\")\n",
    "major = str(\"Economics\")\n",
    "\n",
    "\"My name is\" + \" \"  + name + \", and my major is\" + \" \" + major\n"
   ]
  },
  {
   "cell_type": "code",
   "execution_count": 21,
   "metadata": {},
   "outputs": [
    {
     "data": {
      "text/plain": [
       "2"
      ]
     },
     "execution_count": 21,
     "metadata": {},
     "output_type": "execute_result"
    }
   ],
   "source": [
    "# List \n",
    "list_numbers = [1,2,3,4,5]\n",
    "list_numbers[0]\n",
    "list_numbers[1]"
   ]
  },
  {
   "cell_type": "code",
   "execution_count": null,
   "metadata": {},
   "outputs": [],
   "source": []
  }
 ],
 "metadata": {
  "kernelspec": {
   "display_name": "base",
   "language": "python",
   "name": "python3"
  },
  "language_info": {
   "codemirror_mode": {
    "name": "ipython",
    "version": 3
   },
   "file_extension": ".py",
   "mimetype": "text/x-python",
   "name": "python",
   "nbconvert_exporter": "python",
   "pygments_lexer": "ipython3",
   "version": "3.12.4"
  }
 },
 "nbformat": 4,
 "nbformat_minor": 2
}
