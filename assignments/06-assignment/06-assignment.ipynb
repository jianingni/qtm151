{
 "cells": [
  {
   "attachments": {},
   "cell_type": "markdown",
   "metadata": {},
   "source": [
    "# Assignment 6"
   ]
  },
  {
   "attachments": {},
   "cell_type": "markdown",
   "metadata": {},
   "source": [
    "## Try to submit as an HTML file"
   ]
  },
  {
   "attachments": {},
   "cell_type": "markdown",
   "metadata": {},
   "source": [
    "<font size = \"5\">\n",
    "Print your Emory code below"
   ]
  },
  {
   "cell_type": "code",
   "execution_count": 2,
   "metadata": {},
   "outputs": [
    {
     "name": "stdout",
     "output_type": "stream",
     "text": [
      "2599639\n"
     ]
    }
   ],
   "source": [
    "# Write your answer here:\n",
    "\n",
    "print(\"2599639\")"
   ]
  },
  {
   "attachments": {},
   "cell_type": "markdown",
   "metadata": {},
   "source": [
    "<font size = \"5\">\n",
    "\n",
    "Import the \"pandas\", \"matplotlib.pyplot\", \"numpy\", \"statsmodels.api\", and \"statsmodels.formula.api\" libraries"
   ]
  },
  {
   "cell_type": "code",
   "execution_count": 1,
   "metadata": {},
   "outputs": [],
   "source": [
    "# Write your answer here:\n",
    "\n",
    "import pandas as pd\n",
    "import matplotlib.pyplot as plt \n",
    "import statsmodels.api as sm \n",
    "import statsmodels.formula.api as smf \n"
   ]
  },
  {
   "attachments": {},
   "cell_type": "markdown",
   "metadata": {},
   "source": [
    "<font size = \"5\">\n",
    "\n",
    "(a) Functions\n",
    "\n",
    "<font size = \"3\">\n",
    "\n",
    "- Read the dataset labelled features.csv.\n",
    "- Create a ``` lambda ``` function that checks if horsepower $>$ 100\n",
    "- Create a new list that shows true if horsepower $>$ 100 and false <br>\n",
    "if horsepower $\\leq$ 100.\n",
    "- Count how many cars have horsewpower $> 100$.\n",
    "\n",
    "To get full credit use either the apply or the map function <br>\n",
    "(see Lectures 7 and 8)"
   ]
  },
  {
   "cell_type": "code",
   "execution_count": 5,
   "metadata": {},
   "outputs": [
    {
     "name": "stdout",
     "output_type": "stream",
     "text": [
      "<class 'pandas.core.series.Series'>\n",
      "Number of cars with horsepower > 100: 150\n"
     ]
    }
   ],
   "source": [
    "# Write your answer here\n",
    "\n",
    "features = pd.read_csv('Data/features.csv')\n",
    "\n",
    "print(type(features['horsepower']))\n",
    "\n",
    "features['horsepower'] = pd.to_numeric(features['horsepower'], errors='coerce')\n",
    "\n",
    "horsepower_check = features['horsepower'].apply(lambda x: x > 100)\n",
    "\n",
    "horsepower_check_list = list(horsepower_check)\n",
    "\n",
    "count = horsepower_check.sum()\n",
    "\n",
    "print(f'Number of cars with horsepower > 100: {count}')\n"
   ]
  },
  {
   "attachments": {},
   "cell_type": "markdown",
   "metadata": {},
   "source": [
    "<font size = \"5\">\n",
    "\n",
    "(b) Subsetting Data\n",
    "\n",
    "<font size = \"3\" >\n",
    "\n",
    "- Read the dataset labelled features.csv.\n",
    "- Define a global variable called ```threshold``` that takes the <br>\n",
    "value 3000\n",
    "- Subset the data to get one dataset with weight $>$ threshold and <br>\n",
    "another with weight $\\le$ 3000. Use the ```.query()``` function.\n",
    "- Compute the mean acceleration for each of these datasets.<br>\n",
    "\n",
    "Note: Review how to define a gloabl variable inside ```.query()```\n",
    " "
   ]
  },
  {
   "cell_type": "code",
   "execution_count": 16,
   "metadata": {},
   "outputs": [
    {
     "name": "stdout",
     "output_type": "stream",
     "text": [
      "      mpg  cylinders  displacement  horsepower  weight  acceleration  \\\n",
      "0    18.0          8           307       130.0    3504          12.0   \n",
      "1    15.0          8           350       165.0    3693          11.5   \n",
      "2    18.0          8           318       150.0    3436          11.0   \n",
      "3    16.0          8           304       150.0    3433          12.0   \n",
      "4    17.0          8           302       140.0    3449          10.5   \n",
      "..    ...        ...           ...         ...     ...           ...   \n",
      "393  27.0          4           140        86.0    2790          15.6   \n",
      "394  44.0          4            97        52.0    2130          24.6   \n",
      "395  32.0          4           135        84.0    2295          11.6   \n",
      "396  28.0          4           120        79.0    2625          18.6   \n",
      "397  31.0          4           119        82.0    2720          19.4   \n",
      "\n",
      "    vehicle_id  \n",
      "0    C-1689780  \n",
      "1    B-1689791  \n",
      "2    P-1689802  \n",
      "3    A-1689813  \n",
      "4    F-1689824  \n",
      "..         ...  \n",
      "393  F-1694103  \n",
      "394  V-1694114  \n",
      "395  D-1694125  \n",
      "396  F-1694136  \n",
      "397  C-1694147  \n",
      "\n",
      "[398 rows x 7 columns]\n",
      "14.7\n",
      "16.202173913043477\n"
     ]
    }
   ],
   "source": [
    "# Write your answer here:\n",
    "\n",
    "print(features)\n",
    "\n",
    "threshold = 3000 \n",
    "high_weight = features.query('weight > 3000')\n",
    "low_weight = features.query('weight <= 3000')\n",
    "\n",
    "mean_acceleration_high = high_weight['acceleration'].mean()\n",
    "mean_acceleration_low = low_weight['acceleration'].mean()\n",
    "\n",
    "print(mean_acceleration_high)\n",
    "print(mean_acceleration_low)\n"
   ]
  },
  {
   "attachments": {},
   "cell_type": "markdown",
   "metadata": {},
   "source": [
    "<font size = \"5\">\n",
    "\n",
    "(c) Regression\n",
    "\n",
    "<font size = \"3\">\n",
    "\n",
    "In this exercise you are asked to plot acceleration vs. weight and to plot <br>\n",
    " the best fit line.\n",
    "\n",
    "- Run a linear regression between acceleration and weight.\n",
    "- Extract the intercept and coefficient.\n",
    "- Using your predicted coefficients, compute the predicted value of acceleration\n",
    "- Plot a scatter plot with acceleration on the y axis and weight on the x axis.\n",
    "- On that same figure, plot a line with the predicted values of acceleration\n",
    "\n",
    "Do not forget to label your axes and title."
   ]
  },
  {
   "cell_type": "code",
   "execution_count": null,
   "metadata": {},
   "outputs": [],
   "source": [
    "# Write your answer here:\n",
    "\n",
    "\n",
    "\n",
    "\n"
   ]
  },
  {
   "cell_type": "markdown",
   "metadata": {},
   "source": [
    "<font size = \"5\">\n",
    "\n",
    "(d) Use sorting + \".iloc[]\"\n",
    "\n",
    "<font size = \"3\">\n",
    "\n",
    "- Read the \"fifa23_players_basic.csv\" dataset\n",
    "- Use \".sort_values()\" to order the \"Age\" column <br>\n",
    "from youngest to oldest\n",
    "- Get a subset with the 5 youngest players"
   ]
  },
  {
   "cell_type": "code",
   "execution_count": null,
   "metadata": {},
   "outputs": [],
   "source": [
    "# Write your own code\n",
    "\n",
    "\n",
    "\n"
   ]
  },
  {
   "cell_type": "markdown",
   "metadata": {},
   "source": [
    "<font size = \"5\">\n",
    "\n",
    "(e) Use queries + global variables\n",
    "\n",
    "<font size = \"3\">\n",
    "\n",
    "- Read the \"fifa23_players_basic.csv\" dataset\n",
    "- Compute the mean of the column \"Value(in Euro)\" <br>\n",
    "and store it as a variable\n",
    "- Subset the players whose value is above the mean value <br>\n",
    "  using \".query()\"\n",
    "\n",
    "\n",
    "HINT: Remember that there is a special syntax for <br>\n",
    "when the column names have spaces (see Lecture 10) <br>\n",
    "Reference the column as ``` `Value(in Euro)`    ``` inside .query()"
   ]
  },
  {
   "cell_type": "code",
   "execution_count": null,
   "metadata": {},
   "outputs": [],
   "source": [
    "# Write your own code\n",
    "\n",
    "\n",
    "\n"
   ]
  },
  {
   "attachments": {},
   "cell_type": "markdown",
   "metadata": {},
   "source": [
    "<font size = \"5\">"
   ]
  }
 ],
 "metadata": {
  "kernelspec": {
   "display_name": "base",
   "language": "python",
   "name": "python3"
  },
  "language_info": {
   "codemirror_mode": {
    "name": "ipython",
    "version": 3
   },
   "file_extension": ".py",
   "mimetype": "text/x-python",
   "name": "python",
   "nbconvert_exporter": "python",
   "pygments_lexer": "ipython3",
   "version": "3.12.4"
  },
  "orig_nbformat": 4
 },
 "nbformat": 4,
 "nbformat_minor": 2
}
